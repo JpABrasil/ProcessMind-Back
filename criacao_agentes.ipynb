{
 "cells": [
  {
   "cell_type": "markdown",
   "id": "30708458",
   "metadata": {},
   "source": [
    "#### QA Diário Oficial"
   ]
  },
  {
   "cell_type": "code",
   "execution_count": 2,
   "id": "6dc57df8",
   "metadata": {},
   "outputs": [],
   "source": [
    "from agentes import Agente\n",
    "from tools import query_banco_diario_oficial\n",
    "\n",
    "agente = Agente(\n",
    "    nome=\"QA Diário Oficial\",\n",
    "    descricao=\"Agente para consumir banco de dados do diário oficial\",\n",
    "    prompt_base=None,\n",
    "    arquivos_base=None,\n",
    "    ferramentas=query_banco_diario_oficial,\n",
    "    formato_output=None)\n",
    "\n",
    "agente.salvar()"
   ]
  },
  {
   "cell_type": "markdown",
   "id": "d658e3a9",
   "metadata": {},
   "source": [
    "#### Analista Gratificação Titulação"
   ]
  },
  {
   "cell_type": "code",
   "execution_count": 7,
   "id": "04e2151a",
   "metadata": {},
   "outputs": [],
   "source": [
    "from agentes import Agente\n",
    "\n",
    "agente = Agente(\n",
    "    nome=\"Analista Gratificação Titulação\",\n",
    "    descricao=\"Agente para realizar anállise de gratificação por titulação\",\n",
    "    prompt_base=\"\"\"\n",
    "- Existe diploma ou certificado de Especialização, Residência I, Residência II, Mestrado ou Doutorado? De quê? O diploma tem indícios de documento válido? A área de formação a que se refere o diploma tem relação com o cargo do(a) servidor(a)? Qual o nome da instituição de ensino? Qual a data de emissão do diploma?\n",
    "- Há Declaração do órgão com descrição das atividades? Se sim, as atividades tem relação com a área de formação a que se refere o diploma?\n",
    "- Há Parecer emitido pela Escola de Saúde Pública do Ceará? Se sim, informa que atende aos requisitos?\n",
    "- Há Parecer emitido pela área jurídica do órgão? Se sim, informa que atende aos requisitos?\n",
    "- Há Portaria concedendo a gratificação?\n",
    "- Os textos do arquivo estão consistentes? Por exemplo, nas diversas páginas, várias vezes se menciona o nome do servidor, a matrícula e o cargo. Em todas elas se referem a mesma pessoa, com o mesmo cargo e matrícula?\n",
    "- Faz menção à Lei nº 12.287/94 e ao Decreto 23.193/94?\n",
    "Conforme a Lei nº 12.287/94, art. 20, os percentuais são o seguinte: especialização, 50%; Residência I, 70%; residência II, 80%; mestrado, 90%; doutorado, 100%.\n",
    "- Com base nas questões anteriores, há elementos para a concessão da gratificação sob referência? Caso afirmativo, preencha o seguinte texto com as informações pertinentes:\n",
    "    \n",
    "    Trata-se de processo administrativo que visa a concessão da Gratificação de Especialização, \n",
    "    correspondente ao percentual de ______%  (_________), com vigência a partir de ______, \n",
    "    ao(à) servidor(a) _________ , matrícula n° ________, \n",
    "    que ocupa o cargo de _________, do grupo ocupacional __________ , referente ao título de __________, \n",
    "    conforme disposto na Lei n.º 12.287/1994, regulamentada pelas normas estabelecidas no Decreto n° 23.193/1994.\n",
    "\n",
    "    Da análise dos autos, observa-se que a Secretaria da Saúde – SESA, com o intuito de viabilizar a concessão do pleito, \n",
    "    instruiu o processo anexando a seguinte documentação: Requerimento do(a) servidor(a); Declaração das atividades desempenhadas, \n",
    "    às folha _______________; cópia autenticada/validada do Diploma; \n",
    "    Parecer da Escola de Saúde Pública do Ceará validando e aprovando o diploma apresentado; Parecer favorável da Superintendência Jurídica; \n",
    "    Portaria; Repercussão Financeira; e Declaração do Ordenador de Despesas, relativa ao anuênio vigente, na forma da Lei nº 19.154, \n",
    "    de 23 de dezembro de 2024 (LOA).\n",
    "\n",
    "    No que concerne à Despesa de Exercício Anterior -- DEA, considerando que a SESA não implantou os valores referentes aos exercícios pretéritos, \n",
    "    os quais deverão ser objeto de pagamento por meio de Termo de Reconhecimento de Dívida, cumpre esclarecer que, à luz do Decreto nº 36.332, \n",
    "    de 5 de dezembro de 2024, que aprova o Regulamento da SEPLAG, especialmente os artigos 1º, 36 e 40, os quais definem as competências da COGEP \n",
    "    e da CELCA, não compete a estas unidades a análise de Termo de Reconhecimento de Dívida de outros órgãos.\n",
    "\n",
    "    Cabe ressaltar que a fé pública é um princípio consagrado no Direito Administrativo, conferindo presunção de veracidade às informações produzidas \n",
    "    por agentes públicos no exercício regular de suas atribuições. Trata-se de presunção Juris Tantum, ou seja, admite prova em contrário.\n",
    "\n",
    "    Dessa forma, as informações constantes nos autos, prestadas por setores da SESA, devem ser consideradas legítimas e verdadeiras até que eventual \n",
    "    prova em sentido contrário venha a desconstituí-las, sendo de inteira responsabilidade dos agentes que as subscrevem. \n",
    "\n",
    "    Diante do exposto, no tocante à análise técnica desta Coordenadoria, ressalta-se que foram atendidos os requisitos técnicos para concessão do pleito, \n",
    "    assim, a Portaria em epígrafe encontra-se apta para prosseguimento.\n",
    "\n",
    "    Assim, encaminhe-se à SEXEC-GES para apreciação, com sugestão de posterior envio à Casa Civil, para adoção das providências cabíveis.\"\"\",\n",
    "    arquivos_base=None,\n",
    "    ferramentas=None,\n",
    "    formato_output=None)\n",
    "\n",
    "agente.salvar()"
   ]
  },
  {
   "cell_type": "markdown",
   "id": "d641ab0b",
   "metadata": {},
   "source": [
    "#### Gratificação Titulação - Saúde"
   ]
  }
 ],
 "metadata": {
  "kernelspec": {
   "display_name": "Python 3",
   "language": "python",
   "name": "python3"
  },
  "language_info": {
   "codemirror_mode": {
    "name": "ipython",
    "version": 3
   },
   "file_extension": ".py",
   "mimetype": "text/x-python",
   "name": "python",
   "nbconvert_exporter": "python",
   "pygments_lexer": "ipython3",
   "version": "3.13.2"
  }
 },
 "nbformat": 4,
 "nbformat_minor": 5
}
